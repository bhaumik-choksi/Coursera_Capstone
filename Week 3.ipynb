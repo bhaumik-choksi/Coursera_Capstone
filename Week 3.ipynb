{
 "cells": [
  {
   "cell_type": "code",
   "execution_count": 62,
   "metadata": {},
   "outputs": [
    {
     "name": "stdout",
     "output_type": "stream",
     "text": [
      "  PostalCode           Borough                     Neighborhood\n",
      "0        M3A        North York                        Parkwoods\n",
      "1        M4A        North York                 Victoria Village\n",
      "2        M5A  Downtown Toronto         Harbourfront,Regent Park\n",
      "3        M6A        North York  Lawrence Heights,Lawrence Manor\n",
      "4        M7A      Queen's Park                     Queen's Park\n"
     ]
    }
   ],
   "source": [
    "from bs4 import BeautifulSoup as bs\n",
    "import requests\n",
    "import pandas as pd\n",
    "\n",
    "wiki_page = requests.get('https://en.wikipedia.org/wiki/List_of_postal_codes_of_Canada:_M').text\n",
    "\n",
    "soup = bs(wiki_page)\n",
    "mytable = soup.find('table',{'class':'wikitable sortable'})\n",
    "data = mytable.findAll('tr')\n",
    "\n",
    "data_dic = {}\n",
    "\n",
    "for row in data:\n",
    "    temp = row.findAll(\"td\")\n",
    "    if len(temp)==3:\n",
    "        # PostalCode p, borough b and neighborhood n \n",
    "        p,b,n = temp\n",
    "        \n",
    "        # Remove spaces and \\n\n",
    "        p = p.text.strip()\n",
    "        b = b.text.strip()\n",
    "        n = n.text.strip()\n",
    "\n",
    "        if b!=\"Not assigned\":\n",
    "            if n == \"Not assigned\":\n",
    "                n=b\n",
    "            \n",
    "            # Check if postalcode has been added, if yes, append neighborhood after comma\n",
    "            if p in data_dic:\n",
    "                data_dic[p][1] = data_dic[p][1] + \",\" + n\n",
    "            else:\n",
    "                data_dic[p] = [b, n]\n",
    "\n",
    "# Create a list to store data                \n",
    "li = []\n",
    "for k,v in data_dic.items():\n",
    "    li.append([k, v[0], v[1]])\n",
    "\n",
    "# Convert list of lists to DF    \n",
    "dataframe = pd.DataFrame(li,columns=['PostalCode', 'Borough', 'Neighborhood'])#.set_index('Neighborhood')\n",
    "print(dataframe.head())"
   ]
  },
  {
   "cell_type": "code",
   "execution_count": 63,
   "metadata": {},
   "outputs": [
    {
     "name": "stdout",
     "output_type": "stream",
     "text": [
      "(103, 3)\n"
     ]
    }
   ],
   "source": [
    "# Shape of the dataframe\n",
    "print(dataframe.shape)"
   ]
  },
  {
   "cell_type": "code",
   "execution_count": null,
   "metadata": {},
   "outputs": [],
   "source": []
  }
 ],
 "metadata": {
  "kernelspec": {
   "display_name": "Python 3",
   "language": "python",
   "name": "python3"
  },
  "language_info": {
   "codemirror_mode": {
    "name": "ipython",
    "version": 3
   },
   "file_extension": ".py",
   "mimetype": "text/x-python",
   "name": "python",
   "nbconvert_exporter": "python",
   "pygments_lexer": "ipython3",
   "version": "3.6.7"
  }
 },
 "nbformat": 4,
 "nbformat_minor": 2
}
