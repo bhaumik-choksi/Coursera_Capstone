{
 "cells": [
  {
   "cell_type": "markdown",
   "metadata": {},
   "source": [
    "# Getting Data From Wikipedia"
   ]
  },
  {
   "cell_type": "code",
   "execution_count": 5,
   "metadata": {},
   "outputs": [
    {
     "name": "stdout",
     "output_type": "stream",
     "text": [
      "  PostalCode           Borough                      Neighborhood\n",
      "0        M3A        North York                         Parkwoods\n",
      "1        M4A        North York                  Victoria Village\n",
      "2        M5A  Downtown Toronto         Harbourfront, Regent Park\n",
      "3        M6A        North York  Lawrence Heights, Lawrence Manor\n",
      "4        M7A      Queen's Park                      Queen's Park\n"
     ]
    }
   ],
   "source": [
    "from bs4 import BeautifulSoup as bs\n",
    "import requests\n",
    "import pandas as pd\n",
    "\n",
    "wiki_page = requests.get('https://en.wikipedia.org/wiki/List_of_postal_codes_of_Canada:_M').text\n",
    "\n",
    "soup = bs(wiki_page)\n",
    "mytable = soup.find('table',{'class':'wikitable sortable'})\n",
    "data = mytable.findAll('tr')\n",
    "\n",
    "data_dic = {}\n",
    "\n",
    "for row in data:\n",
    "    temp = row.findAll(\"td\")\n",
    "    if len(temp)==3:\n",
    "        # PostalCode p, borough b and neighborhood n \n",
    "        p,b,n = temp\n",
    "        \n",
    "        # Remove spaces and \\n\n",
    "        p = p.text.strip()\n",
    "        b = b.text.strip()\n",
    "        n = n.text.strip()\n",
    "\n",
    "        if b!=\"Not assigned\":\n",
    "            if n == \"Not assigned\":\n",
    "                n=b\n",
    "            \n",
    "            # Check if postalcode has been added, if yes, append neighborhood after comma\n",
    "            if p in data_dic:\n",
    "                data_dic[p][1] = data_dic[p][1] + \", \" + n\n",
    "            else:\n",
    "                data_dic[p] = [b, n]\n",
    "\n",
    "# Create a list to store data                \n",
    "li = []\n",
    "for k,v in data_dic.items():\n",
    "    li.append([k, v[0], v[1]])\n",
    "\n",
    "# Convert list of lists to DF    \n",
    "dataframe = pd.DataFrame(li,columns=['PostalCode', 'Borough', 'Neighborhood'])#.set_index('Neighborhood')\n",
    "print(dataframe.head())"
   ]
  },
  {
   "cell_type": "code",
   "execution_count": 2,
   "metadata": {},
   "outputs": [
    {
     "name": "stdout",
     "output_type": "stream",
     "text": [
      "(103, 3)\n"
     ]
    }
   ],
   "source": [
    "print(dataframe.shape)"
   ]
  },
  {
   "cell_type": "markdown",
   "metadata": {},
   "source": [
    "# Getting Geolocation Data\n",
    "I have downloaded the csv and read it\n",
    "\n",
    "I merge both dataframe (join operation) based on postal code\n",
    "\n",
    "Then I drop the redundant column"
   ]
  },
  {
   "cell_type": "code",
   "execution_count": 6,
   "metadata": {},
   "outputs": [
    {
     "name": "stdout",
     "output_type": "stream",
     "text": [
      "  PostalCode           Borough                      Neighborhood   Latitude  \\\n",
      "0        M3A        North York                         Parkwoods  43.753259   \n",
      "1        M4A        North York                  Victoria Village  43.725882   \n",
      "2        M5A  Downtown Toronto         Harbourfront, Regent Park  43.654260   \n",
      "3        M6A        North York  Lawrence Heights, Lawrence Manor  43.718518   \n",
      "4        M7A      Queen's Park                      Queen's Park  43.662301   \n",
      "\n",
      "   Longitude  \n",
      "0 -79.329656  \n",
      "1 -79.315572  \n",
      "2 -79.360636  \n",
      "3 -79.464763  \n",
      "4 -79.389494  \n"
     ]
    }
   ],
   "source": [
    "geospat = pd.read_csv('Geospatial_Coordinates.csv')\n",
    "\n",
    "dataframe = pd.merge(dataframe, geospat, how='left', left_on='PostalCode', right_on='Postal Code', validate=\"1:1\")\n",
    "dataframe.drop(labels='Postal Code', axis=1, inplace=True)\n",
    "print(dataframe.head())"
   ]
  }
 ],
 "metadata": {
  "kernelspec": {
   "display_name": "Python 3",
   "language": "python",
   "name": "python3"
  },
  "language_info": {
   "codemirror_mode": {
    "name": "ipython",
    "version": 3
   },
   "file_extension": ".py",
   "mimetype": "text/x-python",
   "name": "python",
   "nbconvert_exporter": "python",
   "pygments_lexer": "ipython3",
   "version": "3.6.7"
  }
 },
 "nbformat": 4,
 "nbformat_minor": 2
}
